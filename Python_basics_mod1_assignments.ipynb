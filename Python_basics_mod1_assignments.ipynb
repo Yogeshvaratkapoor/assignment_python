{
  "nbformat": 4,
  "nbformat_minor": 0,
  "metadata": {
    "colab": {
      "provenance": []
    },
    "kernelspec": {
      "name": "python3",
      "display_name": "Python 3"
    },
    "language_info": {
      "name": "python"
    }
  },
  "cells": [
    {
      "cell_type": "markdown",
      "source": [
        "# Python Basics Assignment Module 1"
      ],
      "metadata": {
        "id": "SyFNSuacmoES"
      }
    },
    {
      "cell_type": "markdown",
      "source": [
        "Question1. What is Python, and why is it popular?\n",
        "\n",
        "*Python is the high level programming language that is known for its simplicity,readablity and versatility\n",
        "it is widely used in multiple trending feilds like web development, data science\n",
        " and artificial intellegence and it is mostly famous because of rapid application development*"
      ],
      "metadata": {
        "id": "MdQJPSCim3Pu"
      }
    },
    {
      "cell_type": "markdown",
      "source": [
        "Question2.What is an interpreter in Python?\n",
        "- An interpreter is a progra in python that convert the written code line by line in machine readable form at ruuntime unlike,compiler, it does not generate another executable file\n"
      ],
      "metadata": {
        "id": "DusPmGCVokB0"
      }
    },
    {
      "cell_type": "markdown",
      "source": [
        "Question3. What are the pre-defined keywords in python?\n",
        "- The predefined keywords the words which has a special mmeaning in the python language and cannot be used as a variable,funtions and identifiiers,etc some of the predefined keywords are from conrol-flow,operators,conditionals,etc"
      ],
      "metadata": {
        "id": "jbRU4I2GpkJs"
      }
    },
    {
      "cell_type": "markdown",
      "source": [
        "Question4. Can keywords can be used as variables\n",
        "- NO , the keywords cannot be used as variables because they default have a special meaning in the python codde and when we assign the value fr the variables(if they used as variables) they will return the value but did'nt be used as a keyword"
      ],
      "metadata": {
        "id": "w9FGvPwlqYey"
      }
    },
    {
      "cell_type": "markdown",
      "source": [
        "Question5. what is mutablity in python?\n",
        "- Mutablity reffered to the value changed of abject after created"
      ],
      "metadata": {
        "id": "4ONPJAQlrJeA"
      }
    },
    {
      "cell_type": "markdown",
      "source": [
        "Question6. Why are lists mutable, but tuples are immutable?\n",
        "- The difference in mutability between lists and tuples is due to how they are implemented in memory\n",
        "- Lists in Python are designed to be flexible and dynamic. their memory allocation allows the content to be mutable and changeable after its creation\n",
        "- Tuples are stored in a way or allocated in the moemoy which makes it a faster and efiicient or secured way to have the data into it"
      ],
      "metadata": {
        "id": "pusDCoirBSDa"
      }
    },
    {
      "cell_type": "markdown",
      "source": [
        "Question7. What is the difference between “==” and “is” operators in Python?\n",
        "- \"==\" is the eqqulity operator which checks that the value of the object should be same\n",
        "-\"is\" it is the operator which checks the memory allocation should be same in both the objects\n"
      ],
      "metadata": {
        "id": "3QyoPDfPCYh9"
      }
    },
    {
      "cell_type": "markdown",
      "source": [
        "Question9. What are logical operators in Python?\n",
        "- Logical operators in Python are used to perform boolean logic operations on values that evaluate to True or False\n",
        "- some of the logical operators are\n",
        "- '&'/'and' operator\n",
        "- '|'/'or' operator\n",
        "- '^'/'not' operator"
      ],
      "metadata": {
        "id": "JRi4jPjaDKJT"
      }
    },
    {
      "cell_type": "markdown",
      "source": [
        "Question9. What is type casting in Python?\n",
        "- type casting is the practice to change the value from one data type to another or overwriting the value from one data type to another like changing a value stored in a string to the same value in float"
      ],
      "metadata": {
        "id": "fDQCMFuTD7qM"
      }
    },
    {
      "cell_type": "markdown",
      "source": [
        " Question10.What is the difference between implicit and explicit type casting?\n",
        " - impliit type casting>> it is the process done by the python or compiler itself by changing the value from smaller to heigher data types automatically without any coder intervention\n",
        " - explicit type casting>> when the programmer change the data type of a certain value intentionally with the help of functions like int(), str(), float()"
      ],
      "metadata": {
        "id": "7b7rGIIPEWwq"
      }
    },
    {
      "cell_type": "markdown",
      "source": [
        "Question11.What is the purpose of conditional statements in Python?\n",
        "- the purpose of the conditional statements the flow of a program by executing specific code blocks based on conditions. They enable decision-making using if, elif, and else. This allows Python programs to perform different actions depending on user input, variable values, or logical conditions."
      ],
      "metadata": {
        "id": "85wd9duwFZJT"
      }
    },
    {
      "cell_type": "markdown",
      "source": [
        "Question12 How does the elif statement work?\n",
        "- the elif statements work that check the multiple condition sequentially that if the condition is false the iterator move to the next statements but if the the condition is truw the iteratior enter into the statement and execute the givent program written inside the elif statements"
      ],
      "metadata": {
        "id": "k0FyuGuZGEaA"
      }
    },
    {
      "cell_type": "markdown",
      "source": [
        "Question13.What is the difference between for and while loops?\n",
        "- for loop iterates over a sequence of list, tuples and range for a fixed number of times\n",
        "- while loop will be executed untill the given condition must be false"
      ],
      "metadata": {
        "id": "qJ_VdZbQG3iU"
      }
    },
    {
      "cell_type": "markdown",
      "source": [
        "Question14.Describe a scenario where a while loop is more suitable than a for loop?\n",
        "for valid user input: suppose we are making a form to be filled by the user and we need the correct and valid strong password to be enetered by the user in that case we can use while loop over the for loop for better and clean code"
      ],
      "metadata": {
        "id": "7ZB0HWMOHdXS"
      }
    },
    {
      "cell_type": "code",
      "source": [],
      "metadata": {
        "id": "GUMlS3TQlKJC"
      },
      "execution_count": null,
      "outputs": []
    },
    {
      "cell_type": "markdown",
      "source": [
        "#Practical questions\n"
      ],
      "metadata": {
        "id": "QlA4aUBfIFW3"
      }
    },
    {
      "cell_type": "code",
      "source": [
        "#20 Write a Python program to print \"Hello, World!\n",
        "Answer = \"Hello, World!\"\n",
        "print(Answer)"
      ],
      "metadata": {
        "id": "K5B1jRxLlKMA",
        "colab": {
          "base_uri": "https://localhost:8080/"
        },
        "outputId": "f6fc88cf-6833-4431-e70e-3e6a3d6d49b8"
      },
      "execution_count": 1,
      "outputs": [
        {
          "output_type": "stream",
          "name": "stdout",
          "text": [
            "Hello, World!\n"
          ]
        }
      ]
    },
    {
      "cell_type": "code",
      "source": [
        "#Write a Python program that displays your name and age\n",
        "Name= \"Yogesh\"\n",
        "age= 22\n",
        "print(f\"hello there my name is {Name} and my age is {age}\")"
      ],
      "metadata": {
        "colab": {
          "base_uri": "https://localhost:8080/"
        },
        "id": "ZaVD5bPbIYjT",
        "outputId": "998d49dc-f4ca-44bb-991b-46f5a46bc4bb"
      },
      "execution_count": 3,
      "outputs": [
        {
          "output_type": "stream",
          "name": "stdout",
          "text": [
            "hello there my name is Yogesh and my age is 22\n"
          ]
        }
      ]
    },
    {
      "cell_type": "code",
      "source": [
        "#Write code to print all the pre-defined keywords in Python using the keyword library\n",
        "import keyword\n",
        "print(keyword.kwlist)"
      ],
      "metadata": {
        "colab": {
          "base_uri": "https://localhost:8080/"
        },
        "id": "NEbGlS4mIYnN",
        "outputId": "96447efa-1636-4649-97ac-58bf9b1a295e"
      },
      "execution_count": 5,
      "outputs": [
        {
          "output_type": "stream",
          "name": "stdout",
          "text": [
            "['False', 'None', 'True', 'and', 'as', 'assert', 'async', 'await', 'break', 'class', 'continue', 'def', 'del', 'elif', 'else', 'except', 'finally', 'for', 'from', 'global', 'if', 'import', 'in', 'is', 'lambda', 'nonlocal', 'not', 'or', 'pass', 'raise', 'return', 'try', 'while', 'with', 'yield']\n"
          ]
        }
      ]
    },
    {
      "cell_type": "code",
      "source": [
        "#Write a program that checks if a given word is a Python keyword0\n",
        "input_word = input(\"Enter a word: \")\n",
        "\n",
        "if keyword.iskeyword(input_word):\n",
        "    print(f\"'{input_word}' is a Python keyword.\")\n",
        "else:\n",
        "    print(f\"'{input_word}' is not a Python keyword.\")"
      ],
      "metadata": {
        "id": "kdY8SblsIYp8"
      },
      "execution_count": null,
      "outputs": []
    },
    {
      "cell_type": "code",
      "source": [
        "#Create a list and tuple in Python, and demonstrate how attempting to change an element works differently for each\n",
        "lis =[1,2,3,4,5]\n",
        "lis[0]=9\n",
        "lis"
      ],
      "metadata": {
        "colab": {
          "base_uri": "https://localhost:8080/"
        },
        "id": "z-I1FQiedDHS",
        "outputId": "44dd26c9-ffeb-4ae8-a345-46c5c10574f5"
      },
      "execution_count": 7,
      "outputs": [
        {
          "output_type": "execute_result",
          "data": {
            "text/plain": [
              "[9, 2, 3, 4, 5]"
            ]
          },
          "metadata": {},
          "execution_count": 7
        }
      ]
    },
    {
      "cell_type": "code",
      "source": [
        "#tuple>> it is immutable and cant be change the element\n",
        "tup = (1,2,3,4,5)\n",
        "tup[0]=(6)\n",
        "tup"
      ],
      "metadata": {
        "colab": {
          "base_uri": "https://localhost:8080/",
          "height": 193
        },
        "id": "htamS5AVdDPN",
        "outputId": "a5afb585-bacd-40ef-c358-878bbeb63247"
      },
      "execution_count": 9,
      "outputs": [
        {
          "output_type": "error",
          "ename": "AttributeError",
          "evalue": "'tuple' object has no attribute 'append'",
          "traceback": [
            "\u001b[0;31m---------------------------------------------------------------------------\u001b[0m",
            "\u001b[0;31mAttributeError\u001b[0m                            Traceback (most recent call last)",
            "\u001b[0;32m<ipython-input-9-ebf1a2e4328d>\u001b[0m in \u001b[0;36m<cell line: 0>\u001b[0;34m()\u001b[0m\n\u001b[1;32m      1\u001b[0m \u001b[0;31m#tuple\u001b[0m\u001b[0;34m\u001b[0m\u001b[0;34m\u001b[0m\u001b[0m\n\u001b[1;32m      2\u001b[0m \u001b[0mtup\u001b[0m \u001b[0;34m=\u001b[0m \u001b[0;34m(\u001b[0m\u001b[0;36m1\u001b[0m\u001b[0;34m,\u001b[0m\u001b[0;36m2\u001b[0m\u001b[0;34m,\u001b[0m\u001b[0;36m3\u001b[0m\u001b[0;34m,\u001b[0m\u001b[0;36m4\u001b[0m\u001b[0;34m,\u001b[0m\u001b[0;36m5\u001b[0m\u001b[0;34m)\u001b[0m\u001b[0;34m\u001b[0m\u001b[0;34m\u001b[0m\u001b[0m\n\u001b[0;32m----> 3\u001b[0;31m \u001b[0mtup\u001b[0m\u001b[0;34m.\u001b[0m\u001b[0mappend\u001b[0m\u001b[0;34m(\u001b[0m\u001b[0;36m6\u001b[0m\u001b[0;34m)\u001b[0m\u001b[0;34m\u001b[0m\u001b[0;34m\u001b[0m\u001b[0m\n\u001b[0m\u001b[1;32m      4\u001b[0m \u001b[0mtup\u001b[0m\u001b[0;34m\u001b[0m\u001b[0;34m\u001b[0m\u001b[0m\n",
            "\u001b[0;31mAttributeError\u001b[0m: 'tuple' object has no attribute 'append'"
          ]
        }
      ]
    },
    {
      "cell_type": "code",
      "source": [
        "# question 6,7 Write a function to demonstrate the behavior of mutable and immutable arguments0\n",
        "def modifications(mutable,immutable):\n",
        "  #before modifications\n",
        "  print(\"Before modifications:\")\n",
        "  print(\"muatable:\",mutable)\n",
        "  print(\"immutable:\",immutable)\n",
        "\n",
        "  #mutable modifications\n",
        "  mutable.append(5)\n",
        "\n",
        "  #immutable modifications\n",
        "  immutable +=1\n",
        "  return mutable,immutable\n",
        "\n",
        "  #after modifications\n",
        "  print(\"\\nAfter modifications:\")\n",
        "  print(\"mutable:\",mutable)\n",
        "  print(\"immutable:\",immutable)\n"
      ],
      "metadata": {
        "id": "Wsy0K3QxdDSr"
      },
      "execution_count": 12,
      "outputs": []
    },
    {
      "cell_type": "code",
      "source": [
        "#checking the functions\n",
        "Lis1 =[1,2,3,4,4]\n",
        "my_int = 10\n",
        "modifications(Lis1,my_int)\n"
      ],
      "metadata": {
        "colab": {
          "base_uri": "https://localhost:8080/"
        },
        "id": "2RRISWQCedmf",
        "outputId": "da36fb8a-6744-418d-a718-8f3734ffa331"
      },
      "execution_count": 15,
      "outputs": [
        {
          "output_type": "stream",
          "name": "stdout",
          "text": [
            "Before modifications:\n",
            "muatable: [1, 2, 3, 4, 4]\n",
            "immutable: 10\n"
          ]
        },
        {
          "output_type": "execute_result",
          "data": {
            "text/plain": [
              "([1, 2, 3, 4, 4, 5], 11)"
            ]
          },
          "metadata": {},
          "execution_count": 15
        }
      ]
    },
    {
      "cell_type": "code",
      "source": [
        "#Question8. Write a program to demonstrate the use of logical operators0\n",
        "#the program to chek weather the person has to go for lunch or not\n",
        "lunchtime =False\n",
        "hungry =True\n",
        "if hungry & lunchtime:\n",
        "       print(\"You should go for lunch. (Both hungry and lunchtime)\")\n",
        "\n",
        "    # Using OR operator (|)\n",
        "elif hungry | lunchtime:\n",
        "        print(\"You may go for lunch. (Either hungry or lunchtime)\")\n",
        "\n",
        "    # Using XOR operator (^)\n",
        "elif hungry ^ lunchtime:\n",
        "        print(\"It's tricky. You should evaluate if it's worth going. (One condition is True, the other False)\")\n",
        "\n",
        "    # If neither condition is True\n",
        "else:\n",
        "        print(\"No need for lunch yet.\")\n"
      ],
      "metadata": {
        "colab": {
          "base_uri": "https://localhost:8080/"
        },
        "id": "ybQxMKMLedrE",
        "outputId": "8baaf4a7-1657-479b-bfbd-1b63374e52fe"
      },
      "execution_count": 16,
      "outputs": [
        {
          "output_type": "stream",
          "name": "stdout",
          "text": [
            "You may go for lunch. (Either hungry or lunchtime)\n"
          ]
        }
      ]
    },
    {
      "cell_type": "code",
      "source": [
        "#Write a Python program to convert user input from string to integer, float, and boolean types\n",
        "#convert to integer\n",
        "input_string = input(\"Enter the string value: \")\n",
        "if input_string.isdigit():  # Check if the string represents a valid integer\n",
        "        converted_int = int(input_string)\n",
        "        print(f\"Integer value: {converted_int}\")\n",
        "else:\n",
        "        print(\"Input cannot be converted to an integer.\")"
      ],
      "metadata": {
        "colab": {
          "base_uri": "https://localhost:8080/"
        },
        "id": "uAKHZvGledtM",
        "outputId": "3b63675e-5c76-4f20-d8e0-03f1ea124faf"
      },
      "execution_count": 18,
      "outputs": [
        {
          "output_type": "stream",
          "name": "stdout",
          "text": [
            "Enter the string value: 2.5\n",
            "Input cannot be converted to an integer.\n"
          ]
        }
      ]
    },
    {
      "cell_type": "code",
      "source": [
        "#convert to float\n",
        "input_string = input(\"Enter the string value: \")\n",
        "if input_string.isdigit():  # Check if the string represents a valid integer\n",
        "        converted_float = float(input_string)\n",
        "        print(f\"Integer value: {converted_float}\")\n",
        "else:\n",
        "        print(\"Input cannot be converted to an integer.\")"
      ],
      "metadata": {
        "colab": {
          "base_uri": "https://localhost:8080/"
        },
        "id": "uW9YGUbkdDVw",
        "outputId": "13f88d06-73ed-417d-c178-4947ce18c8f1"
      },
      "execution_count": 23,
      "outputs": [
        {
          "output_type": "stream",
          "name": "stdout",
          "text": [
            "Enter the string value: 45\n",
            "Integer value: 45.0\n"
          ]
        }
      ]
    },
    {
      "cell_type": "code",
      "source": [
        "#Question 10 .Write code to demonstrate type casting with list elements0\n",
        "Type_list =[\"67\",2.4,1,True]\n",
        "#typecasting\n",
        "Type_list[0]=int(Type_list[0])\n",
        "Type_list[1]=bool(Type_list[1])\n",
        "Type_list[2]=float(Type_list[2])\n",
        "Type_list[3]=str(Type_list[3])\n",
        "Type_list"
      ],
      "metadata": {
        "colab": {
          "base_uri": "https://localhost:8080/"
        },
        "id": "qBehy5Hyl3u_",
        "outputId": "fd59f767-9a95-4725-d35f-e0debe0c5494"
      },
      "execution_count": 24,
      "outputs": [
        {
          "output_type": "execute_result",
          "data": {
            "text/plain": [
              "[67, True, 1.0, 'True']"
            ]
          },
          "metadata": {},
          "execution_count": 24
        }
      ]
    },
    {
      "cell_type": "code",
      "source": [
        "# question11. Write a program that checks if a number is positive, negative, or zero\n",
        "number = float(input(\"Enter a number: \"))\n",
        "\n",
        "if number > 0:\n",
        "    print(\"The number is positive.\")\n",
        "elif number < 0:\n",
        "    print(\"The number is negative.\")\n",
        "else:\n",
        "    print(\"The number is zero.\")"
      ],
      "metadata": {
        "id": "_A9599Zvl30P"
      },
      "execution_count": null,
      "outputs": []
    },
    {
      "cell_type": "code",
      "source": [
        "#Question12. Write a for loop to print numbers from 1 to 10\n",
        "\n",
        "for i in range(1,11):\n",
        "  print(i)"
      ],
      "metadata": {
        "colab": {
          "base_uri": "https://localhost:8080/"
        },
        "id": "j3YzHwLWl32n",
        "outputId": "d090e519-cca4-4b48-ae42-8dc26e2018d0"
      },
      "execution_count": 25,
      "outputs": [
        {
          "output_type": "stream",
          "name": "stdout",
          "text": [
            "1\n",
            "2\n",
            "3\n",
            "4\n",
            "5\n",
            "6\n",
            "7\n",
            "8\n",
            "9\n",
            "10\n"
          ]
        }
      ]
    },
    {
      "cell_type": "code",
      "source": [
        "# Question13.Write a Python program to find the sum of all even numbers between 1 and 50\n",
        "\n",
        "sum_even = 0\n",
        "for num in range(1, 51):  #\n",
        "    if num % 2 == 0:\n",
        "        sum_even += num\n",
        "\n",
        "print(\"The sum of all even numbers between 1 and 50 is:\", sum_even)"
      ],
      "metadata": {
        "colab": {
          "base_uri": "https://localhost:8080/"
        },
        "id": "wq_SS6XVdDZO",
        "outputId": "1fbfe431-52c7-4af4-cb38-47cb20437e5b"
      },
      "execution_count": 33,
      "outputs": [
        {
          "output_type": "stream",
          "name": "stdout",
          "text": [
            "The sum of all even numbers between 1 and 50 is: 650\n"
          ]
        }
      ]
    },
    {
      "cell_type": "code",
      "source": [
        "# Question 14.Write a program to reverse a string using a while loop0\n",
        "string = input(\"Enter a string: \")\n",
        "\n",
        "reversed_string = \"\"\n",
        "index = len(string) - 1\n",
        "\n",
        "while index >= 0:\n",
        "    reversed_string += string[index]\n",
        "    index -= 1\n",
        "\n",
        "print(\"Reversed string:\", reversed_string)"
      ],
      "metadata": {
        "id": "ZWwNngMKlKPO",
        "colab": {
          "base_uri": "https://localhost:8080/"
        },
        "outputId": "8966d322-eeca-490b-cdd1-a5dc8fff77cf"
      },
      "execution_count": 34,
      "outputs": [
        {
          "output_type": "stream",
          "name": "stdout",
          "text": [
            "Enter a string: Python\n",
            "Reversed string: nohtyP\n"
          ]
        }
      ]
    },
    {
      "cell_type": "code",
      "source": [
        "#question 15.Write a Python program to calculate the factorial of a number provided by the user using a while loop.\n",
        "factorial = 1\n",
        "num=21\n",
        "original_num = num\n",
        "\n",
        "\n",
        "while num > 0:\n",
        "    factorial *= num\n",
        "    num -= 1\n",
        "\n",
        "print(f\"Factorial of {original_num} is: {factorial}\")"
      ],
      "metadata": {
        "colab": {
          "base_uri": "https://localhost:8080/"
        },
        "id": "ObTGA4xprF_A",
        "outputId": "34e6103d-fcc3-4ad4-b7dc-45e4c0ba9acb"
      },
      "execution_count": 36,
      "outputs": [
        {
          "output_type": "stream",
          "name": "stdout",
          "text": [
            "Factorial of 21 is: 51090942171709440000\n"
          ]
        }
      ]
    }
  ]
}